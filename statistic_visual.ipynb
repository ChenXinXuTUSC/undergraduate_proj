{
 "cells": [
  {
   "cell_type": "code",
   "execution_count": 23,
   "metadata": {},
   "outputs": [
    {
     "name": "stdout",
     "output_type": "stream",
     "text": [
      "name\tvalid\ttotal\tratio\n",
      "radio\t11.23\t19.78\t 0.42\t\n",
      "bed\t10.40\t31.87\t 0.32\t\n",
      "monitor\t10.68\t19.86\t 0.53\t\n",
      "lamp\t35.80\t107.58\t 0.46\t\n",
      "vase\t21.36\t51.49\t 0.44\t\n"
     ]
    }
   ],
   "source": [
    "import numpy as np\n",
    "import re\n",
    "with open(\"./statistic/noise_ModelNet40.txt\", 'r') as f:\n",
    "    lines = [tuple(line.rstrip().split()) for line in f.readlines()]\n",
    "\n",
    "count = {}\n",
    "for line in lines:\n",
    "    name, valid, total, ratio = line\n",
    "    pattern = r\"_\\d{4}\"\n",
    "    matches = re.findall(pattern, name)\n",
    "    name = name.split(matches[0])[0]\n",
    "    if name not in count:\n",
    "        stat = {\n",
    "            \"valid\": [],\n",
    "            \"total\": [],\n",
    "            \"ratio\": []\n",
    "        }\n",
    "        count[name] = stat\n",
    "    count[name][\"valid\"].append(int(valid))\n",
    "    count[name][\"total\"].append(int(total))\n",
    "    count[name][\"ratio\"].append(float(ratio))\n",
    "\n",
    "print(\"name\\tvalid\\ttotal\\tratio\")\n",
    "for key, val in count.items():\n",
    "    print(f\"{key}\\t\", end=\"\")\n",
    "    print(f\"{np.array(val['valid']).mean():5.2f}\\t\", end=\"\")\n",
    "    print(f\"{np.array(val['total']).mean():5.2f}\\t\", end=\"\")\n",
    "    print(f\"{np.array(val['ratio']).mean():5.2f}\\t\", end=\"\")\n",
    "    print(\"\")\n"
   ]
  },
  {
   "cell_type": "code",
   "execution_count": 26,
   "metadata": {},
   "outputs": [
    {
     "name": "stdout",
     "output_type": "stream",
     "text": [
      "name\tvalid\ttotal\tratio\n",
      "sun3d-mit\t48.96\t686.63\t 0.08\t\n",
      "bundlefusion-office\t77.31\t761.21\t 0.10\t\n",
      "sun3d-harvard\t33.05\t1054.55\t 0.03\t\n",
      "analysis-by-synthesis-apt1\t69.33\t475.67\t 0.17\t\n",
      "7-scenes-redkitchen\t56.89\t883.45\t 0.06\t\n"
     ]
    }
   ],
   "source": [
    "import numpy as np\n",
    "import re\n",
    "with open(\"./statistic/noise_3DMatch.txt\", 'r') as f:\n",
    "    lines = [tuple(line.rstrip().split()) for line in f.readlines()]\n",
    "\n",
    "room_names = [\n",
    "    \"analysis-by-synthesis-apt1\",\n",
    "    \"bundlefusion-office\",\n",
    "    \"sun3d-harvard\",\n",
    "    \"sun3d-mit\",\n",
    "    \"7-scenes-redkitchen\"\n",
    "]\n",
    "count = {}\n",
    "for line in lines:\n",
    "    name, valid, total, ratio = line\n",
    "    name = name.split(\"@\")[0]\n",
    "    for room_name in room_names:\n",
    "        if room_name in name:\n",
    "            name = room_name\n",
    "            break\n",
    "    if name not in count:\n",
    "        stat = {\n",
    "            \"valid\": [],\n",
    "            \"total\": [],\n",
    "            \"ratio\": []\n",
    "        }\n",
    "        count[name] = stat\n",
    "    count[name][\"valid\"].append(int(valid))\n",
    "    count[name][\"total\"].append(int(total))\n",
    "    count[name][\"ratio\"].append(float(ratio))\n",
    "\n",
    "print(\"name\\tvalid\\ttotal\\tratio\")\n",
    "for key, val in count.items():\n",
    "    print(f\"{key}\\t\", end=\"\")\n",
    "    print(f\"{np.array(val['valid']).mean():5.2f}\\t\", end=\"\")\n",
    "    print(f\"{np.array(val['total']).mean():5.2f}\\t\", end=\"\")\n",
    "    print(f\"{np.array(val['ratio']).mean():5.2f}\\t\", end=\"\")\n",
    "    print(\"\")"
   ]
  },
  {
   "cell_type": "code",
   "execution_count": 2,
   "metadata": {},
   "outputs": [
    {
     "name": "stdout",
     "output_type": "stream",
     "text": [
      "0.5647163120567376\n"
     ]
    }
   ],
   "source": [
    "dumpfile = open(\"./results/statistic/ModelNet40_count_midium.txt\", 'r')\n",
    "lines = [tuple(line.rstrip().split()) for line in dumpfile.readlines()]\n",
    "\n",
    "register_valid = 0\n",
    "for line in lines:\n",
    "    if len(line) > 2:\n",
    "        register_valid += 1\n",
    "\n",
    "print(register_valid / len(lines))\n",
    "\n",
    "dumpfile.close()"
   ]
  },
  {
   "cell_type": "code",
   "execution_count": 10,
   "metadata": {},
   "outputs": [
    {
     "data": {
      "text/plain": [
       "(array([ 0,  1,  2,  3,  4,  5,  6,  7,  8,  9, 10, 11, 12, 13, 14, 15, 16,\n",
       "        17, 18, 19, 20, 21, 22, 23, 24, 25, 26, 27, 28, 29, 30, 31, 32, 33,\n",
       "        34, 35, 36, 37, 38, 39]),\n",
       " [Text(0, 0, 'airplane'),\n",
       "  Text(1, 0, 'bathtub'),\n",
       "  Text(2, 0, 'bed'),\n",
       "  Text(3, 0, 'bench'),\n",
       "  Text(4, 0, 'bookshelf'),\n",
       "  Text(5, 0, 'bottle'),\n",
       "  Text(6, 0, 'bowl'),\n",
       "  Text(7, 0, 'car'),\n",
       "  Text(8, 0, 'chair'),\n",
       "  Text(9, 0, 'cone'),\n",
       "  Text(10, 0, 'cup'),\n",
       "  Text(11, 0, 'curtain'),\n",
       "  Text(12, 0, 'desk'),\n",
       "  Text(13, 0, 'door'),\n",
       "  Text(14, 0, 'dresser'),\n",
       "  Text(15, 0, 'flower_pot'),\n",
       "  Text(16, 0, 'glass_box'),\n",
       "  Text(17, 0, 'guitar'),\n",
       "  Text(18, 0, 'keyboard'),\n",
       "  Text(19, 0, 'lamp'),\n",
       "  Text(20, 0, 'laptop'),\n",
       "  Text(21, 0, 'mantel'),\n",
       "  Text(22, 0, 'monitor'),\n",
       "  Text(23, 0, 'night_stand'),\n",
       "  Text(24, 0, 'person'),\n",
       "  Text(25, 0, 'piano'),\n",
       "  Text(26, 0, 'plant'),\n",
       "  Text(27, 0, 'radio'),\n",
       "  Text(28, 0, 'range_hood'),\n",
       "  Text(29, 0, 'sink'),\n",
       "  Text(30, 0, 'sofa'),\n",
       "  Text(31, 0, 'stairs'),\n",
       "  Text(32, 0, 'stool'),\n",
       "  Text(33, 0, 'table'),\n",
       "  Text(34, 0, 'tent'),\n",
       "  Text(35, 0, 'toilet'),\n",
       "  Text(36, 0, 'tv_stand'),\n",
       "  Text(37, 0, 'vase'),\n",
       "  Text(38, 0, 'wardrobe'),\n",
       "  Text(39, 0, 'xbox')])"
      ]
     },
     "execution_count": 10,
     "metadata": {},
     "output_type": "execute_result"
    },
    {
     "data": {
      "image/png": "[encoded data removed]",
      "text/plain": [
       "<Figure size 480x360 with 1 Axes>"
      ]
     },
     "metadata": {},
     "output_type": "display_data"
    }
   ],
   "source": [
    "import os\n",
    "import numpy as np\n",
    "import seaborn as sns\n",
    "import pandas as pd\n",
    "import matplotlib.pyplot as plt\n",
    "pd.options.display.notebook_repr_html=False  # 表格显示\n",
    "plt.rcParams['figure.dpi'] = 75  # 图形分辨率\n",
    "sns.set_theme(style='darkgrid')  # 图形主题\n",
    "\n",
    "sample_cls = []\n",
    "sample_dia = []\n",
    "\n",
    "data_root = \"/home/hm/fuguiduo/datasets/modelnet40/txt\"\n",
    "model_dirs = sorted(os.listdir(data_root))\n",
    "for model_cls in model_dirs:\n",
    "    if not os.path.isdir(os.path.join(data_root, model_cls)):\n",
    "        continue\n",
    "    samples = sorted(os.listdir(os.path.join(data_root, model_cls)))\n",
    "    for sample in samples[:50]:\n",
    "        coord = np.loadtxt(os.path.join(data_root, model_cls, sample), delimiter=\",\")[:, :3]\n",
    "        min_coord = coord.min(axis=0)\n",
    "        max_coord = coord.max(axis=0)\n",
    "        diameter = np.sqrt(((max_coord - min_coord) ** 2).sum())\n",
    "        sample_cls.append(model_cls)\n",
    "        sample_dia.append(diameter)\n",
    "\n",
    "df = pd.DataFrame({\"sample_cls\": sample_cls, \"sample_dia\": sample_dia})\n",
    "sns.barplot(\n",
    "    x=\"sample_cls\",\n",
    "    y=\"sample_dia\",\n",
    "    data=df\n",
    ")\n",
    "plt.xticks(rotation=90, fontsize=10)"
   ]
  }
 ],
 "metadata": {
  "kernelspec": {
   "display_name": "fgd-mink",
   "language": "python",
   "name": "python3"
  },
  "language_info": {
   "codemirror_mode": {
    "name": "ipython",
    "version": 3
   },
   "file_extension": ".py",
   "mimetype": "text/x-python",
   "name": "python",
   "nbconvert_exporter": "python",
   "pygments_lexer": "ipython3",
   "version": "3.9.15"
  },
  "orig_nbformat": 4
 },
 "nbformat": 4,
 "nbformat_minor": 2
}
