{
 "cells": [
  {
   "cell_type": "code",
   "execution_count": 23,
   "metadata": {},
   "outputs": [
    {
     "name": "stdout",
     "output_type": "stream",
     "text": [
      "name\tvalid\ttotal\tratio\n",
      "radio\t11.23\t19.78\t 0.42\t\n",
      "bed\t10.40\t31.87\t 0.32\t\n",
      "monitor\t10.68\t19.86\t 0.53\t\n",
      "lamp\t35.80\t107.58\t 0.46\t\n",
      "vase\t21.36\t51.49\t 0.44\t\n"
     ]
    }
   ],
   "source": [
    "import numpy as np\n",
    "import re\n",
    "with open(\"./statistic/noise_ModelNet40.txt\", 'r') as f:\n",
    "    lines = [tuple(line.rstrip().split()) for line in f.readlines()]\n",
    "\n",
    "count = {}\n",
    "for line in lines:\n",
    "    name, valid, total, ratio = line\n",
    "    pattern = r\"_\\d{4}\"\n",
    "    matches = re.findall(pattern, name)\n",
    "    name = name.split(matches[0])[0]\n",
    "    if name not in count:\n",
    "        stat = {\n",
    "            \"valid\": [],\n",
    "            \"total\": [],\n",
    "            \"ratio\": []\n",
    "        }\n",
    "        count[name] = stat\n",
    "    count[name][\"valid\"].append(int(valid))\n",
    "    count[name][\"total\"].append(int(total))\n",
    "    count[name][\"ratio\"].append(float(ratio))\n",
    "\n",
    "print(\"name\\tvalid\\ttotal\\tratio\")\n",
    "for key, val in count.items():\n",
    "    print(f\"{key}\\t\", end=\"\")\n",
    "    print(f\"{np.array(val['valid']).mean():5.2f}\\t\", end=\"\")\n",
    "    print(f\"{np.array(val['total']).mean():5.2f}\\t\", end=\"\")\n",
    "    print(f\"{np.array(val['ratio']).mean():5.2f}\\t\", end=\"\")\n",
    "    print(\"\")\n"
   ]
  },
  {
   "cell_type": "code",
   "execution_count": 26,
   "metadata": {},
   "outputs": [
    {
     "name": "stdout",
     "output_type": "stream",
     "text": [
      "name\tvalid\ttotal\tratio\n",
      "sun3d-mit\t48.96\t686.63\t 0.08\t\n",
      "bundlefusion-office\t77.31\t761.21\t 0.10\t\n",
      "sun3d-harvard\t33.05\t1054.55\t 0.03\t\n",
      "analysis-by-synthesis-apt1\t69.33\t475.67\t 0.17\t\n",
      "7-scenes-redkitchen\t56.89\t883.45\t 0.06\t\n"
     ]
    }
   ],
   "source": [
    "import numpy as np\n",
    "import re\n",
    "with open(\"./statistic/noise_3DMatch.txt\", 'r') as f:\n",
    "    lines = [tuple(line.rstrip().split()) for line in f.readlines()]\n",
    "\n",
    "room_names = [\n",
    "    \"analysis-by-synthesis-apt1\",\n",
    "    \"bundlefusion-office\",\n",
    "    \"sun3d-harvard\",\n",
    "    \"sun3d-mit\",\n",
    "    \"7-scenes-redkitchen\"\n",
    "]\n",
    "count = {}\n",
    "for line in lines:\n",
    "    name, valid, total, ratio = line\n",
    "    name = name.split(\"@\")[0]\n",
    "    for room_name in room_names:\n",
    "        if room_name in name:\n",
    "            name = room_name\n",
    "            break\n",
    "    if name not in count:\n",
    "        stat = {\n",
    "            \"valid\": [],\n",
    "            \"total\": [],\n",
    "            \"ratio\": []\n",
    "        }\n",
    "        count[name] = stat\n",
    "    count[name][\"valid\"].append(int(valid))\n",
    "    count[name][\"total\"].append(int(total))\n",
    "    count[name][\"ratio\"].append(float(ratio))\n",
    "\n",
    "print(\"name\\tvalid\\ttotal\\tratio\")\n",
    "for key, val in count.items():\n",
    "    print(f\"{key}\\t\", end=\"\")\n",
    "    print(f\"{np.array(val['valid']).mean():5.2f}\\t\", end=\"\")\n",
    "    print(f\"{np.array(val['total']).mean():5.2f}\\t\", end=\"\")\n",
    "    print(f\"{np.array(val['ratio']).mean():5.2f}\\t\", end=\"\")\n",
    "    print(\"\")"
   ]
  }
 ],
 "metadata": {
  "kernelspec": {
   "display_name": "fgd-mink",
   "language": "python",
   "name": "python3"
  },
  "language_info": {
   "codemirror_mode": {
    "name": "ipython",
    "version": 3
   },
   "file_extension": ".py",
   "mimetype": "text/x-python",
   "name": "python",
   "nbconvert_exporter": "python",
   "pygments_lexer": "ipython3",
   "version": "3.9.15"
  },
  "orig_nbformat": 4
 },
 "nbformat": 4,
 "nbformat_minor": 2
}
