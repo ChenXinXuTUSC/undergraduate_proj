{
 "cells": [
  {
   "cell_type": "code",
   "execution_count": 1,
   "metadata": {},
   "outputs": [
    {
     "name": "stdout",
     "output_type": "stream",
     "text": [
      "Jupyter environment detected. Enabling Open3D WebVisualizer.\n",
      "[Open3D INFO] WebRTC GUI backend enabled.\n",
      "[Open3D INFO] WebRTCWindowSystem: HTTP handshake server disabled.\n",
      "hello world\n"
     ]
    }
   ],
   "source": [
    "import open3d as o3d\n",
    "import torch\n",
    "\n",
    "print(\"hello world\")"
   ]
  },
  {
   "cell_type": "code",
   "execution_count": 1,
   "metadata": {},
   "outputs": [
    {
     "name": "stdout",
     "output_type": "stream",
     "text": [
      "(0, None)\n",
      "(0, 1)\n"
     ]
    }
   ],
   "source": [
    "def rettest(flag: bool=False):\n",
    "    return 0, 1 if flag else None\n",
    "\n",
    "print(rettest(False))\n",
    "print(rettest(True))"
   ]
  }
 ],
 "metadata": {
  "kernelspec": {
   "display_name": "fgd-mink",
   "language": "python",
   "name": "python3"
  },
  "language_info": {
   "codemirror_mode": {
    "name": "ipython",
    "version": 3
   },
   "file_extension": ".py",
   "mimetype": "text/x-python",
   "name": "python",
   "nbconvert_exporter": "python",
   "pygments_lexer": "ipython3",
   "version": "3.9.15"
  },
  "orig_nbformat": 4,
  "vscode": {
   "interpreter": {
    "hash": "67ebd0394414bc41e56a53fa3f16e6a065335a8e164359bc991865e832813da3"
   }
  }
 },
 "nbformat": 4,
 "nbformat_minor": 2
}
